{
  "nbformat": 4,
  "nbformat_minor": 0,
  "metadata": {
    "colab": {
      "private_outputs": true,
      "provenance": [],
      "mount_file_id": "1NRWdLfLnmZPanDGu04sRowHIwHLUkrMO",
      "authorship_tag": "ABX9TyNb2qK9KWYEjzf6QL+RJM6b",
      "include_colab_link": true
    },
    "kernelspec": {
      "name": "python3",
      "display_name": "Python 3"
    },
    "language_info": {
      "name": "python"
    }
  },
  "cells": [
    {
      "cell_type": "markdown",
      "metadata": {
        "id": "view-in-github",
        "colab_type": "text"
      },
      "source": [
        "<a href=\"https://colab.research.google.com/github/Naman203r/Car-Sales-Dashboard/blob/main/Titanic_Project.ipynb\" target=\"_parent\"><img src=\"https://colab.research.google.com/assets/colab-badge.svg\" alt=\"Open In Colab\"/></a>"
      ]
    },
    {
      "cell_type": "markdown",
      "source": [
        "# Imported Libraries\n",
        "#**Conclusion**\n",
        "\n",
        "* What I did:\n",
        "     - I imported essential Python libraries — NumPy, Pandas, and Matplotlib.\n",
        "\n",
        "* Why I did it:\n",
        "\n",
        "     - NumPy: I needed to perform mathematical and statistical   operations on the data, so I imported NumPy.\n",
        "\n",
        "     - Pandas: To handle missing values and remove duplicates for cleaner analysis, I used Pandas.\n",
        "\n",
        "     - Matplotlib: To create visualizations for better understanding of the data, I imported Matplotlib.\n",
        "\n",
        "* What it helps:\n",
        "     - These libraries help in performing statistical tasks like    calculating mean, median, and mode, and in creating visual charts to uncover patterns and insights from the data."
      ],
      "metadata": {
        "id": "KMo_Unhg1-Hp"
      }
    },
    {
      "cell_type": "code",
      "execution_count": null,
      "metadata": {
        "id": "nM8G76Qt1sKD"
      },
      "outputs": [],
      "source": [
        "import numpy as np\n",
        "import pandas as pd\n",
        "import matplotlib.pyplot as plt"
      ]
    },
    {
      "cell_type": "markdown",
      "source": [
        "# Data Loading\n",
        "#**Conclusion**\n",
        "  * What I did:\n",
        "      - I loaded the Titanic training dataset using Pandas with the function pd.read_csv().\n",
        "  * Why I did it:\n",
        "      - In order to analyze the Titanic dataset, it was necessary to first load the data into the notebook environment.\n",
        "  * What it helps in:\n",
        "      - Loading the dataset allows us to perform various operations like data cleaning, exploration, and visualization on the Titanic data."
      ],
      "metadata": {
        "id": "TYJVbe-g2Hok"
      }
    },
    {
      "cell_type": "code",
      "source": [
        "df=pd.read_csv(\"/content/drive/MyDrive/Google collab datasets/Titanic Dataset/train.csv\")\n",
        "df"
      ],
      "metadata": {
        "id": "WzqEjOPA10DN"
      },
      "execution_count": null,
      "outputs": []
    },
    {
      "cell_type": "markdown",
      "source": [
        "# Data Understanding\n",
        "#**Conclusion**\n",
        "\n",
        "  * What I did:\n",
        "       - I used functions like .shape, .info(), .head(), and .tail() to understand the structure of the dataset.\n",
        "\n",
        "  * Why I did it:\n",
        "       - I wanted to find out the number of rows(891) and columns(12) and  also identify data types — such as which columns are numerical, categorical, or mixed. These functions help in gaining a quick overview of the dataset.\n",
        "\n",
        "  * What it helps:\n",
        "       - Understanding the structure and types of data is essential for accurate analysis and helps in taking the right decisions during data cleaning and feature selection.\n",
        "\n",
        "  * What I noticed:\n",
        "       - I noticed that the Age column contains many null values.\n",
        "         I also found two more columns(Cabin and Embarked) with missing values.\n",
        "         These missing values were handled in the Data Cleaning step.\n",
        "\n",
        "       "
      ],
      "metadata": {
        "id": "cVNiuZ03a7g5"
      }
    },
    {
      "cell_type": "code",
      "source": [
        "df.shape"
      ],
      "metadata": {
        "id": "86ovUfbfbIhT"
      },
      "execution_count": null,
      "outputs": []
    },
    {
      "cell_type": "code",
      "source": [
        "df.info()"
      ],
      "metadata": {
        "id": "cE9nR7tym-h2"
      },
      "execution_count": null,
      "outputs": []
    },
    {
      "cell_type": "code",
      "source": [
        "df.head()"
      ],
      "metadata": {
        "id": "BsiVKf-cnCZx"
      },
      "execution_count": null,
      "outputs": []
    },
    {
      "cell_type": "code",
      "source": [
        "df.tail()"
      ],
      "metadata": {
        "id": "vqaNreCInEd7"
      },
      "execution_count": null,
      "outputs": []
    },
    {
      "cell_type": "markdown",
      "source": [
        "# Data Cleaning.\n",
        "#**conclusion**\n",
        " * What I did:Firstly i took Age column.then i show statistics summary by pandas with a describe funtion.then i used isnull function and then i show distribution of age column.\n",
        " *"
      ],
      "metadata": {
        "id": "W2BCwsiC2ox4"
      }
    },
    {
      "cell_type": "code",
      "source": [
        "df.describe()"
      ],
      "metadata": {
        "id": "KQ2GCHTWzFD_"
      },
      "execution_count": null,
      "outputs": []
    },
    {
      "cell_type": "code",
      "source": [
        "# Show stats.\n",
        "df['Age'].describe()"
      ],
      "metadata": {
        "id": "fQaEGS3q5gg4"
      },
      "execution_count": null,
      "outputs": []
    },
    {
      "cell_type": "code",
      "source": [
        "# Distribution of age column\n",
        "plt.figure(figsize=(17,5))\n",
        "plt.subplot(1,2,1)\n",
        "df['Age'].plot(kind=\"hist\")\n",
        "plt.subplot(1,2,2)\n",
        "df['Age'].plot(kind=\"kde\")"
      ],
      "metadata": {
        "id": "agT43Q8w0SQQ"
      },
      "execution_count": null,
      "outputs": []
    },
    {
      "cell_type": "code",
      "source": [
        "df['Age'].skew()"
      ],
      "metadata": {
        "id": "32uPCW9z9YVc"
      },
      "execution_count": null,
      "outputs": []
    },
    {
      "cell_type": "code",
      "source": [
        "# Find Null Values across all columns in our data.\n",
        "df.isnull().sum()"
      ],
      "metadata": {
        "id": "gF_a4D7u3JCD"
      },
      "execution_count": null,
      "outputs": []
    },
    {
      "cell_type": "code",
      "source": [
        "# filling null value on Age column with median.\n",
        "df['Age']=df['Age'].fillna(df['Age'].median())"
      ],
      "metadata": {
        "id": "2-yNHdnq4nug"
      },
      "execution_count": null,
      "outputs": []
    },
    {
      "cell_type": "code",
      "source": [
        "# Show stats after filling nulls with median.\n",
        "df['Age'].describe()"
      ],
      "metadata": {
        "id": "2hyL68De5wF4"
      },
      "execution_count": null,
      "outputs": []
    },
    {
      "cell_type": "code",
      "source": [
        "# Replace outliers on Age column using Capping based on Z-score.\n",
        "# finding boundaries.\n",
        "upper_limit=df['Age'].mean()+3*df['Age'].std()\n",
        "lower_limit=df['Age'].mean()-3*df['Age'].std()\n",
        "print(upper_limit)\n",
        "print(lower_limit)"
      ],
      "metadata": {
        "id": "r_FAcXYX7BD1"
      },
      "execution_count": null,
      "outputs": []
    },
    {
      "cell_type": "code",
      "source": [
        "# Detect Outliers\n",
        "df[(df['Age']<lower_limit) | (df['Age']>upper_limit)]"
      ],
      "metadata": {
        "id": "ZDfIrz7YAP2r"
      },
      "execution_count": null,
      "outputs": []
    },
    {
      "cell_type": "code",
      "source": [
        "# Replace Outliers by Capping technique.\n",
        "df['Age']=np.where(df['Age']>upper_limit,upper_limit,np.where(df['Age']<lower_limit,lower_limit,df['Age']))"
      ],
      "metadata": {
        "id": "cq1a-TInAkG6"
      },
      "execution_count": null,
      "outputs": []
    },
    {
      "cell_type": "code",
      "source": [
        "# Show stats on Age column.\n",
        "df['Age'].describe()"
      ],
      "metadata": {
        "id": "xijkMu1KDOi3"
      },
      "execution_count": null,
      "outputs": []
    },
    {
      "cell_type": "code",
      "source": [
        "# check distribution of data After Replacing outlier on Age column.\n",
        "plt.figure(figsize=(17,5))\n",
        "plt.subplot(1,2,1)\n",
        "df['Age'].plot(kind='hist')\n",
        "plt.subplot(1,2,2)\n",
        "df['Age'].plot(kind='kde')"
      ],
      "metadata": {
        "id": "8Pvvu6Q1DXS3"
      },
      "execution_count": null,
      "outputs": []
    },
    {
      "cell_type": "code",
      "source": [
        "df['Age'].skew()"
      ],
      "metadata": {
        "id": "dLLvjbvo_e9d"
      },
      "execution_count": null,
      "outputs": []
    },
    {
      "cell_type": "markdown",
      "source": [
        "# EDA(Exploratory Data Analysis)"
      ],
      "metadata": {
        "id": "SrIYPxF-04t1"
      }
    },
    {
      "cell_type": "markdown",
      "source": [
        "# Column Types\n",
        "\n",
        "* **Categorical:**Survived,Pclass,Sex,SibSp,Parch,Cabin,  Embarked\n",
        "* **Numerical:**PassengerId,Age,Fare\n",
        "* **Mixed:**Name,Ticket\n",
        "\n",
        "\n",
        "\n"
      ],
      "metadata": {
        "id": "S4rxhcIf2bls"
      }
    },
    {
      "cell_type": "markdown",
      "source": [
        "# Univariant Analysis On Numerical Column"
      ],
      "metadata": {
        "id": "_8zBdctE3vSy"
      }
    },
    {
      "cell_type": "markdown",
      "source": [
        "### Age\n",
        "\n",
        "**Conclusions**\n",
        " * What I did:\n",
        "   - I Used .describe(),.plot() function to analysis the Age column.\n",
        "* Why I did it:\n",
        "   - I Saw means\n",
        " Age is normally(almost) distributed.\n",
        "* 20% values are missing.\n",
        "* There are some outliers.\n",
        "\n"
      ],
      "metadata": {
        "id": "YEb_638Y4f-K"
      }
    },
    {
      "cell_type": "code",
      "source": [
        "df['Age'].describe()"
      ],
      "metadata": {
        "id": "bGK25i0j2UNf"
      },
      "execution_count": null,
      "outputs": []
    },
    {
      "cell_type": "code",
      "source": [
        "df['Age'].plot(kind='hist')"
      ],
      "metadata": {
        "id": "lQd1jW6g4Elm"
      },
      "execution_count": null,
      "outputs": []
    },
    {
      "cell_type": "code",
      "source": [
        "df['Age'].plot(kind='kde')"
      ],
      "metadata": {
        "id": "N10UYXbJ50iL"
      },
      "execution_count": null,
      "outputs": []
    },
    {
      "cell_type": "code",
      "source": [
        "df['Age'].skew()"
      ],
      "metadata": {
        "id": "mdjp5ayK6jHf"
      },
      "execution_count": null,
      "outputs": []
    },
    {
      "cell_type": "code",
      "source": [
        "df['Age'].plot(kind='box')"
      ],
      "metadata": {
        "id": "a-FWZluy7bXI"
      },
      "execution_count": null,
      "outputs": []
    },
    {
      "cell_type": "code",
      "source": [
        "df[df['Age']>65]"
      ],
      "metadata": {
        "id": "bwEvP4Td7juN"
      },
      "execution_count": null,
      "outputs": []
    },
    {
      "cell_type": "code",
      "source": [
        "(df['Age'].isnull().sum()/len(df))*100"
      ],
      "metadata": {
        "id": "2nrrIyrp7kni"
      },
      "execution_count": null,
      "outputs": []
    },
    {
      "cell_type": "markdown",
      "source": [
        "### Fare\n",
        "**conclusion**\n",
        "* Data is highley(Positively) skewed.\n",
        "* Fare column contain Group Fare not a individual Fare(This might be and issue)\n",
        "* we need to create new column called individual fare"
      ],
      "metadata": {
        "id": "Xk86PxxC9Hdr"
      }
    },
    {
      "cell_type": "code",
      "source": [
        "df['Fare'].describe()"
      ],
      "metadata": {
        "id": "TSCmoKLk7kpl"
      },
      "execution_count": null,
      "outputs": []
    },
    {
      "cell_type": "code",
      "source": [
        "df['Fare'].plot(kind='hist')"
      ],
      "metadata": {
        "id": "QnGyMmyc7krs"
      },
      "execution_count": null,
      "outputs": []
    },
    {
      "cell_type": "code",
      "source": [
        "df['Fare'].plot(kind='kde')"
      ],
      "metadata": {
        "id": "Uow-V0pO7kt7"
      },
      "execution_count": null,
      "outputs": []
    },
    {
      "cell_type": "code",
      "source": [
        "df['Fare'].skew()"
      ],
      "metadata": {
        "id": "rBUQ0DfV7kv7"
      },
      "execution_count": null,
      "outputs": []
    },
    {
      "cell_type": "code",
      "source": [
        "df['Fare'].plot(kind='box')"
      ],
      "metadata": {
        "id": "kLZ1sd5R7ky7"
      },
      "execution_count": null,
      "outputs": []
    },
    {
      "cell_type": "code",
      "source": [
        "df[df['Fare']>250]"
      ],
      "metadata": {
        "id": "EZhmUytu-_BQ"
      },
      "execution_count": null,
      "outputs": []
    },
    {
      "cell_type": "code",
      "source": [
        "df['Fare'].isnull().sum()"
      ],
      "metadata": {
        "id": "MUPf2S_s_Zcb"
      },
      "execution_count": null,
      "outputs": []
    },
    {
      "cell_type": "markdown",
      "source": [
        "# Univariant analysis on Categorical Column"
      ],
      "metadata": {
        "id": "0nMOXzmWCtVF"
      }
    },
    {
      "cell_type": "markdown",
      "source": [
        "### Survived\n",
        "\n",
        "**Conclusions**\n",
        "\n",
        "\n",
        "* most of the people died(above 60%) as campared to survived people.\n",
        "* there is no null values in Pclass Column.\n",
        "\n"
      ],
      "metadata": {
        "id": "XnhAETPWDZZi"
      }
    },
    {
      "cell_type": "code",
      "source": [
        "df['Survived'].value_counts()"
      ],
      "metadata": {
        "id": "XyUtq_FtEAAL"
      },
      "execution_count": null,
      "outputs": []
    },
    {
      "cell_type": "code",
      "source": [
        "df['Survived'].value_counts().plot(kind='bar')"
      ],
      "metadata": {
        "id": "GarBGijZEMof"
      },
      "execution_count": null,
      "outputs": []
    },
    {
      "cell_type": "code",
      "source": [
        "df['Survived'].value_counts().plot(kind='pie',autopct='%1.2f%%')"
      ],
      "metadata": {
        "id": "oLJ2q-bqE4Pv"
      },
      "execution_count": null,
      "outputs": []
    },
    {
      "cell_type": "code",
      "source": [
        "df['Survived'].isnull().sum()"
      ],
      "metadata": {
        "id": "bsL_DY5eFG-p"
      },
      "execution_count": null,
      "outputs": []
    },
    {
      "cell_type": "markdown",
      "source": [
        "### Pclass\n",
        "**Conclusion**\n",
        "* maximum number of passengers traveled in Pclass 3.but it is surprising that more passengers traveled in Pclass 1 compared to Pclass 2."
      ],
      "metadata": {
        "id": "TDJJZyVrH-pZ"
      }
    },
    {
      "cell_type": "code",
      "source": [
        "# Passengers count by Pclass\n",
        "df['Pclass'].value_counts()"
      ],
      "metadata": {
        "id": "q9S9SrNYIdaG"
      },
      "execution_count": null,
      "outputs": []
    },
    {
      "cell_type": "code",
      "source": [
        "#plotting\n",
        "No_of_Passenger=df['Pclass'].value_counts()\n",
        "df['Pclass'].value_counts().plot(kind='bar',color=['red','yellow','green'],edgecolor='black')\n",
        "plt.title('Number of Passengers by Pclass',fontsize=19,fontweight='bold')\n",
        "plt.xlabel(\"Pclass\",fontsize=12)\n",
        "plt.ylabel(\"Number of Passengers\",fontsize=12)\n",
        "for index,values in enumerate(No_of_Passenger):\n",
        "  plt.text(index-0.08,values+3,str(values))\n",
        "plt.annotate(\"Maximum Passengers in Pclass 3\",xy=(0.1,500),xytext=(0.7,400),arrowprops={'color':'black'},fontsize=11,fontweight='bold')\n",
        "plt.xticks([0,1,2],['P3','P1','P2'])\n",
        "\n",
        "plt.show()\n"
      ],
      "metadata": {
        "id": "5jr8JU3FJVTr"
      },
      "execution_count": null,
      "outputs": []
    },
    {
      "cell_type": "code",
      "source": [
        "df['Pclass'].value_counts().plot(kind='pie',autopct='%1.2f%%',labels=['P3 Class','P1 Class','P2 Class'])"
      ],
      "metadata": {
        "id": "1OQpVH3rJz59"
      },
      "execution_count": null,
      "outputs": []
    },
    {
      "cell_type": "code",
      "source": [
        "df['Pclass'].isnull().sum()"
      ],
      "metadata": {
        "id": "rktv8TQKKmXL"
      },
      "execution_count": null,
      "outputs": []
    },
    {
      "cell_type": "markdown",
      "source": [
        "# Bivariant Analysis\n"
      ],
      "metadata": {
        "id": "-aUXD7UeSTUo"
      }
    },
    {
      "cell_type": "markdown",
      "source": [
        "### Survive->Pclass\n",
        "**Conclusion**\n",
        "* In case of Death,Pclass 1 were less risky as compared to Pclass 1 as well as Pclass 2."
      ],
      "metadata": {
        "id": "9phxG2B3ScAQ"
      }
    },
    {
      "cell_type": "code",
      "source": [
        "df"
      ],
      "metadata": {
        "id": "_jOCVZ2SSGQu"
      },
      "execution_count": null,
      "outputs": []
    },
    {
      "cell_type": "code",
      "source": [
        "pd.crosstab(df['Survived'],df['Pclass'],normalize='columns')*100"
      ],
      "metadata": {
        "id": "u08L2BAjSR_4"
      },
      "execution_count": null,
      "outputs": []
    },
    {
      "cell_type": "code",
      "source": [
        "plt.imshow(pd.crosstab(df['Survived'],df['Pclass'],normalize='columns')*100,cmap='viridis')\n",
        "plt.colorbar()\n",
        "plt.show()"
      ],
      "metadata": {
        "id": "bCRKOg9BTUQY"
      },
      "execution_count": null,
      "outputs": []
    },
    {
      "cell_type": "markdown",
      "source": [
        "### Survived->Sex\n",
        "**Conclusion**\n"
      ],
      "metadata": {
        "id": "xPTT6PGzXmUR"
      }
    },
    {
      "cell_type": "code",
      "source": [
        "pd.crosstab(df['Survived'],df['Sex'],normalize='columns')*100"
      ],
      "metadata": {
        "id": "2K2CN8uVYto7"
      },
      "execution_count": null,
      "outputs": []
    },
    {
      "cell_type": "code",
      "source": [
        "plt.imshow(pd.crosstab(df['Survived'],df['Sex'],normalize='columns')*100,cmap='hot')\n",
        "plt.colorbar()\n",
        "plt.show()"
      ],
      "metadata": {
        "id": "POPAzlukZb6V"
      },
      "execution_count": null,
      "outputs": []
    },
    {
      "cell_type": "markdown",
      "source": [
        "### Survival->Embarked\n",
        "**conclusion**\n",
        "* Most of the people who boarded from Southampton did not survive."
      ],
      "metadata": {
        "id": "uAWvXkXdiCF1"
      }
    },
    {
      "cell_type": "code",
      "source": [
        "pd.crosstab(df['Survived'],df['Embarked'],normalize='columns')*100\n"
      ],
      "metadata": {
        "id": "VSIpbz3_awfp"
      },
      "execution_count": null,
      "outputs": []
    },
    {
      "cell_type": "code",
      "source": [
        "ct=pd.crosstab(df['Survived'],df['Embarked'],normalize='columns')*100\n",
        "ax=ct.plot(kind='bar',stacked=True,cmap='tab10')\n",
        "\n",
        "for container in ax.containers:\n",
        "    ax.bar_label(container,fmt='%.1f%%',label_type='center',color='black',fontsize=10)"
      ],
      "metadata": {
        "id": "vIIZnrryWT0W"
      },
      "execution_count": null,
      "outputs": []
    },
    {
      "cell_type": "markdown",
      "source": [
        "### Embarked->Sex\n",
        "**Conclusion**\n",
        "* most of the male passengers who boarded from southampton did not survive among all ports."
      ],
      "metadata": {
        "id": "7TJwSysOSC0R"
      }
    },
    {
      "cell_type": "code",
      "source": [
        "pd.crosstab(df['Sex'],df['Embarked'],normalize='columns')*100"
      ],
      "metadata": {
        "id": "QdfAv6q2kn-E"
      },
      "execution_count": null,
      "outputs": []
    },
    {
      "cell_type": "code",
      "source": [
        "ct=pd.crosstab(df['Sex'],df['Embarked'],normalize='columns')*100\n",
        "ax=ct.plot(kind='bar',stacked=True,colormap='Set2')\n",
        "for container in ax.containers:\n",
        "  ax.bar_label(container,fmt='%1.2f%%',label_type='center')"
      ],
      "metadata": {
        "id": "COYoio9-WcXb"
      },
      "execution_count": null,
      "outputs": []
    },
    {
      "cell_type": "markdown",
      "source": [
        "### Pclass->Embarked\n",
        "**Conclusion**\n",
        "* Most of the Male Passengers who boarded from Queenstown did not survive were in 3rd classs and the survival rate was lowest among all the port."
      ],
      "metadata": {
        "id": "n38UFzBfVriV"
      }
    },
    {
      "cell_type": "code",
      "source": [
        "pd.crosstab(df['Pclass'],df['Embarked'])*100"
      ],
      "metadata": {
        "id": "JakNqn3rV05-"
      },
      "execution_count": null,
      "outputs": []
    },
    {
      "cell_type": "code",
      "source": [
        "ct=pd.crosstab(df['Pclass'],df['Embarked'],normalize='columns')*100\n",
        "ax=ct.plot(kind='bar',stacked=True,cmap='Set2')\n",
        "for container in ax.containers:\n",
        "  ax.bar_label(container,fmt='%1.2f%%',label_type='center')"
      ],
      "metadata": {
        "id": "Ym1TwrEFWG7r"
      },
      "execution_count": null,
      "outputs": []
    },
    {
      "cell_type": "markdown",
      "source": [
        "### Survived->Age\n",
        "**Conclusion**\n",
        "* Most of the passengers aged around 0–5(children age) years had a higher survival rate as compared to other age."
      ],
      "metadata": {
        "id": "NKYQDKF3g6ek"
      }
    },
    {
      "cell_type": "code",
      "source": [
        "df[df['Survived'] == 1]['Age'].plot(kind='kde',label='Survived')\n",
        "df[df['Survived'] == 0]['Age'].plot(kind='kde',label='Not Survived')\n",
        "\n",
        "plt.legend()\n",
        "plt.show()"
      ],
      "metadata": {
        "id": "cvyASbfRduJQ"
      },
      "execution_count": null,
      "outputs": []
    },
    {
      "cell_type": "markdown",
      "source": [
        "# Feature Engineering"
      ],
      "metadata": {
        "id": "lhlm5rmfl8C6"
      }
    },
    {
      "cell_type": "markdown",
      "source": [
        "### Fare Column\n",
        "**Conclusion**\n",
        "* I created a new column called Individual_Fare by dividing the total Fare by the total number of people (SibSp + Parch + 1).\n",
        "This helps to find how much fare each person paid individually, which can be more accurate for analysis and modeling."
      ],
      "metadata": {
        "id": "cKeawR1Fl_Nv"
      }
    },
    {
      "cell_type": "code",
      "source": [
        "df1=pd.read_csv(\"/content/drive/MyDrive/Google collab datasets/Titanic Dataset/test.csv\")\n",
        "df1"
      ],
      "metadata": {
        "id": "RyaqSlzymPMM"
      },
      "execution_count": null,
      "outputs": []
    },
    {
      "cell_type": "code",
      "source": [
        "df=pd.concat([df,df1])\n",
        "df"
      ],
      "metadata": {
        "id": "6Zd-5udRU1n4"
      },
      "execution_count": null,
      "outputs": []
    },
    {
      "cell_type": "code",
      "source": [
        "df[df['Ticket'] == 'CA 2144']"
      ],
      "metadata": {
        "id": "k04OHQMWXoAk"
      },
      "execution_count": null,
      "outputs": []
    },
    {
      "cell_type": "code",
      "source": [
        "df['individual_fare'] = df['Fare']/(df['SibSp'] + df['Parch'] + 1)\n",
        "df"
      ],
      "metadata": {
        "id": "y0iuzL1KXt2_"
      },
      "execution_count": null,
      "outputs": []
    },
    {
      "cell_type": "code",
      "source": [
        "df['individual_fare'].plot(kind='box')"
      ],
      "metadata": {
        "id": "CxaVMmFoYFd5"
      },
      "execution_count": null,
      "outputs": []
    },
    {
      "cell_type": "code",
      "source": [
        "df[['individual_fare','Fare']].describe()"
      ],
      "metadata": {
        "id": "W_6s_T5BY5Gj"
      },
      "execution_count": null,
      "outputs": []
    },
    {
      "cell_type": "markdown",
      "source": [
        "**Conclusion**\n",
        "* I made an extra column called Family Size with the help of the SibSp and Parch columns.\n",
        "\n",
        "  I did this to identify which passengers were travelling alone or maybe with their family.\n",
        "\n",
        " This information helps us develop the model."
      ],
      "metadata": {
        "id": "EvOFP7vvj20U"
      }
    },
    {
      "cell_type": "code",
      "source": [
        "df['family_size'] = df['SibSp'] + df['Parch'] + 1"
      ],
      "metadata": {
        "id": "raoJnzkSjtQv"
      },
      "execution_count": null,
      "outputs": []
    },
    {
      "cell_type": "code",
      "source": [
        "# family_type\n",
        "# 1 -> alone\n",
        "# 2-4 -> small\n",
        "# >5 -> large\n",
        "\n",
        "def transform_family_size(num):\n",
        "\n",
        "  if num == 1:\n",
        "    return 'alone'\n",
        "  elif num>1 and num <5:\n",
        "    return \"small\"\n",
        "  else:\n",
        "    return \"large\"\n",
        "df['family_type'] = df['family_size'].apply(transform_family_size)"
      ],
      "metadata": {
        "id": "bwfDXihskBlD"
      },
      "execution_count": null,
      "outputs": []
    },
    {
      "cell_type": "code",
      "source": [
        "df"
      ],
      "metadata": {
        "id": "iO5imR7nnaxg"
      },
      "execution_count": null,
      "outputs": []
    },
    {
      "cell_type": "code",
      "source": [
        "# Multivariant Analysis"
      ],
      "metadata": {
        "id": "kjZujYQDqZNO"
      },
      "execution_count": null,
      "outputs": []
    },
    {
      "cell_type": "markdown",
      "source": [
        "### Survived->family_type.\n",
        "**Conclusion**\n",
        "* I created a frequency table that shows how many passengers did    not survive based on their family size whether they were alone\n",
        ", in a small family, or in a large family.\"\n",
        "* I also created stack bar plot that provide better visual understanding of data.\n",
        "* I noticed one thing: passegers who had large families were less   chance to survive."
      ],
      "metadata": {
        "id": "w2p6TnErp6Yr"
      }
    },
    {
      "cell_type": "code",
      "source": [
        "ct=pd.crosstab(df['Survived'],df['family_type'],normalize='columns')*100\n",
        "ct"
      ],
      "metadata": {
        "id": "TW--M73Rnlw0"
      },
      "execution_count": null,
      "outputs": []
    },
    {
      "cell_type": "code",
      "source": [
        "#plotting\n",
        "ax=ct.plot(kind='bar',stacked=True,cmap='cividis')\n",
        "for container in ax.containers:\n",
        "  ax.bar_label(container,fmt='%1.2f%%',label_type='center',color='white',fontweight='bold')\n"
      ],
      "metadata": {
        "id": "8NZukqbgpuwn"
      },
      "execution_count": null,
      "outputs": []
    },
    {
      "cell_type": "code",
      "source": [
        "df['surname'] = df['Name'].str.split(',').str.get(0)\n",
        "df"
      ],
      "metadata": {
        "id": "GbhIsz3koKnF"
      },
      "execution_count": null,
      "outputs": []
    },
    {
      "cell_type": "markdown",
      "source": [
        "# Multivariate Analysis."
      ],
      "metadata": {
        "id": "nH5kfp16_zpe"
      }
    },
    {
      "cell_type": "markdown",
      "source": [
        "## correlation between variable.\n",
        "## **conclusion**\n",
        "* I created a correlation matrix to understand the relationship between numerical variables. This helped identify how strongly or weakly the variables are correlated.\n",
        "\n",
        "* I also used a heatmap to visualize these relationships for better understanding.\n",
        "\n"
      ],
      "metadata": {
        "id": "fgFyXy9vAiq4"
      }
    },
    {
      "cell_type": "code",
      "source": [
        "df.corr(numeric_only=True)"
      ],
      "metadata": {
        "id": "hqnR1ImGoX8t"
      },
      "execution_count": null,
      "outputs": []
    },
    {
      "cell_type": "code",
      "source": [
        "\n",
        "corr=df.corr(numeric_only=True)\n",
        "plt.imshow(corr)\n",
        "plt.xticks(np.arange(len(corr)),corr, rotation=90)\n",
        "plt.yticks(np.arange(len(corr)),corr)\n",
        "for i in range(len(corr)):\n",
        "  for j in range(len(corr)):\n",
        "    plt.text(i-0.4,j,f\"{corr.iloc[i, j]:.2f}\")\n",
        "plt.colorbar()\n",
        "plt.show()"
      ],
      "metadata": {
        "id": "c0PhAdM7yew_"
      },
      "execution_count": null,
      "outputs": []
    }
  ]
}